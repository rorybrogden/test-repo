{
 "cells": [
  {
   "cell_type": "code",
   "execution_count": 1,
   "id": "717da5bc-a115-4bdf-b36a-1162c4d735f0",
   "metadata": {},
   "outputs": [
    {
     "name": "stdout",
     "output_type": "stream",
     "text": [
      "Jupyter is working\n"
     ]
    }
   ],
   "source": [
    "print(\"Jupyter is working\")"
   ]
  },
  {
   "cell_type": "code",
   "execution_count": null,
   "id": "b8d3b1e6-6d8c-4c98-a996-4e353c7eedba",
   "metadata": {},
   "outputs": [],
   "source": []
  }
 ],
 "metadata": {
  "kernelspec": {
   "display_name": "Python 3 (ipykernel)",
   "language": "python",
   "name": "python3"
  },
  "language_info": {
   "codemirror_mode": {
    "name": "ipython",
    "version": 3
   },
   "file_extension": ".py",
   "mimetype": "text/x-python",
   "name": "python",
   "nbconvert_exporter": "python",
   "pygments_lexer": "ipython3",
   "version": "3.12.7"
  }
 },
 "nbformat": 4,
 "nbformat_minor": 5
}
